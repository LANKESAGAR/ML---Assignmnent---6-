{
 "cells": [
  {
   "cell_type": "markdown",
   "id": "2abdac03",
   "metadata": {},
   "source": [
    "# Question - 1"
   ]
  },
  {
   "cell_type": "markdown",
   "id": "c37676d5",
   "metadata": {},
   "source": [
    "# In order to get the Dendogram plots here I'm writing the code. Mathematical Solution is in the Word Document"
   ]
  },
  {
   "cell_type": "code",
   "execution_count": 26,
   "id": "fdcd54ed",
   "metadata": {},
   "outputs": [
    {
     "data": {
      "text/html": [
       "<div>\n",
       "<style scoped>\n",
       "    .dataframe tbody tr th:only-of-type {\n",
       "        vertical-align: middle;\n",
       "    }\n",
       "\n",
       "    .dataframe tbody tr th {\n",
       "        vertical-align: top;\n",
       "    }\n",
       "\n",
       "    .dataframe thead th {\n",
       "        text-align: right;\n",
       "    }\n",
       "</style>\n",
       "<table border=\"1\" class=\"dataframe\">\n",
       "  <thead>\n",
       "    <tr style=\"text-align: right;\">\n",
       "      <th></th>\n",
       "      <th>x cordinate</th>\n",
       "      <th>y cordinate</th>\n",
       "    </tr>\n",
       "    <tr>\n",
       "      <th>Point</th>\n",
       "      <th></th>\n",
       "      <th></th>\n",
       "    </tr>\n",
       "  </thead>\n",
       "  <tbody>\n",
       "    <tr>\n",
       "      <th>P1</th>\n",
       "      <td>0.4005</td>\n",
       "      <td>0.5306</td>\n",
       "    </tr>\n",
       "    <tr>\n",
       "      <th>P2</th>\n",
       "      <td>0.2148</td>\n",
       "      <td>0.3854</td>\n",
       "    </tr>\n",
       "    <tr>\n",
       "      <th>P3</th>\n",
       "      <td>0.3457</td>\n",
       "      <td>0.3156</td>\n",
       "    </tr>\n",
       "    <tr>\n",
       "      <th>P4</th>\n",
       "      <td>0.2652</td>\n",
       "      <td>0.1875</td>\n",
       "    </tr>\n",
       "    <tr>\n",
       "      <th>P5</th>\n",
       "      <td>0.0789</td>\n",
       "      <td>0.4139</td>\n",
       "    </tr>\n",
       "    <tr>\n",
       "      <th>P6</th>\n",
       "      <td>0.4548</td>\n",
       "      <td>0.3022</td>\n",
       "    </tr>\n",
       "  </tbody>\n",
       "</table>\n",
       "</div>"
      ],
      "text/plain": [
       "       x cordinate  y cordinate\n",
       "Point                          \n",
       "P1          0.4005       0.5306\n",
       "P2          0.2148       0.3854\n",
       "P3          0.3457       0.3156\n",
       "P4          0.2652       0.1875\n",
       "P5          0.0789       0.4139\n",
       "P6          0.4548       0.3022"
      ]
     },
     "execution_count": 26,
     "metadata": {},
     "output_type": "execute_result"
    }
   ],
   "source": [
    "import numpy as np\n",
    "import pandas as pd\n",
    "import matplotlib.pyplot as plt\n",
    "%matplotlib inline\n",
    "import scipy.cluster.hierarchy as shc\n",
    "from scipy.spatial.distance import squareform, pdist\n",
    "\n",
    "#Writing the data from pdf as it is and storing them into the variables in a and b in array format\n",
    "a = np.array([0.4005,0.2148,0.3457,0.2652,0.0789,0.4548])\n",
    "b = np.array([0.5306,0.3854,0.3156,0.1875,0.4139,0.3022])\n",
    "\n",
    "point = ['P1','P2','P3','P4','P5','P6']\n",
    "data = pd.DataFrame({'Point':point, 'x cordinate':a, 'y cordinate':b})\n",
    "data = data.set_index('Point')\n",
    "data"
   ]
  },
  {
   "cell_type": "code",
   "execution_count": 27,
   "id": "b970165a",
   "metadata": {},
   "outputs": [
    {
     "data": {
      "text/html": [
       "<div>\n",
       "<style scoped>\n",
       "    .dataframe tbody tr th:only-of-type {\n",
       "        vertical-align: middle;\n",
       "    }\n",
       "\n",
       "    .dataframe tbody tr th {\n",
       "        vertical-align: top;\n",
       "    }\n",
       "\n",
       "    .dataframe thead th {\n",
       "        text-align: right;\n",
       "    }\n",
       "</style>\n",
       "<table border=\"1\" class=\"dataframe\">\n",
       "  <thead>\n",
       "    <tr style=\"text-align: right;\">\n",
       "      <th></th>\n",
       "      <th>P1</th>\n",
       "      <th>P2</th>\n",
       "      <th>P3</th>\n",
       "      <th>P4</th>\n",
       "      <th>P5</th>\n",
       "      <th>P6</th>\n",
       "    </tr>\n",
       "  </thead>\n",
       "  <tbody>\n",
       "    <tr>\n",
       "      <th>P1</th>\n",
       "      <td>0.0000</td>\n",
       "      <td>0.2357</td>\n",
       "      <td>0.2219</td>\n",
       "      <td>0.3688</td>\n",
       "      <td>0.3421</td>\n",
       "      <td>0.2348</td>\n",
       "    </tr>\n",
       "    <tr>\n",
       "      <th>P2</th>\n",
       "      <td>0.2357</td>\n",
       "      <td>0.0000</td>\n",
       "      <td>0.1483</td>\n",
       "      <td>0.2042</td>\n",
       "      <td>0.1389</td>\n",
       "      <td>0.2540</td>\n",
       "    </tr>\n",
       "    <tr>\n",
       "      <th>P3</th>\n",
       "      <td>0.2219</td>\n",
       "      <td>0.1483</td>\n",
       "      <td>0.0000</td>\n",
       "      <td>0.1513</td>\n",
       "      <td>0.2843</td>\n",
       "      <td>0.1099</td>\n",
       "    </tr>\n",
       "    <tr>\n",
       "      <th>P4</th>\n",
       "      <td>0.3688</td>\n",
       "      <td>0.2042</td>\n",
       "      <td>0.1513</td>\n",
       "      <td>0.0000</td>\n",
       "      <td>0.2932</td>\n",
       "      <td>0.2216</td>\n",
       "    </tr>\n",
       "    <tr>\n",
       "      <th>P5</th>\n",
       "      <td>0.3421</td>\n",
       "      <td>0.1389</td>\n",
       "      <td>0.2843</td>\n",
       "      <td>0.2932</td>\n",
       "      <td>0.0000</td>\n",
       "      <td>0.3921</td>\n",
       "    </tr>\n",
       "    <tr>\n",
       "      <th>P6</th>\n",
       "      <td>0.2348</td>\n",
       "      <td>0.2540</td>\n",
       "      <td>0.1099</td>\n",
       "      <td>0.2216</td>\n",
       "      <td>0.3921</td>\n",
       "      <td>0.0000</td>\n",
       "    </tr>\n",
       "  </tbody>\n",
       "</table>\n",
       "</div>"
      ],
      "text/plain": [
       "        P1      P2      P3      P4      P5      P6\n",
       "P1  0.0000  0.2357  0.2219  0.3688  0.3421  0.2348\n",
       "P2  0.2357  0.0000  0.1483  0.2042  0.1389  0.2540\n",
       "P3  0.2219  0.1483  0.0000  0.1513  0.2843  0.1099\n",
       "P4  0.3688  0.2042  0.1513  0.0000  0.2932  0.2216\n",
       "P5  0.3421  0.1389  0.2843  0.2932  0.0000  0.3921\n",
       "P6  0.2348  0.2540  0.1099  0.2216  0.3921  0.0000"
      ]
     },
     "execution_count": 27,
     "metadata": {},
     "output_type": "execute_result"
    }
   ],
   "source": [
    "dist = pd.DataFrame(squareform(np.round(pdist(data[['x cordinate', 'y cordinate']]),4), 'euclidean'), columns=data.index.values, index=data.index.values)\n",
    "dist"
   ]
  },
  {
   "cell_type": "code",
   "execution_count": 28,
   "id": "8d118a80",
   "metadata": {},
   "outputs": [
    {
     "data": {
      "image/png": "[encoded data removed]",
      "text/plain": [
       "<Figure size 576x576 with 1 Axes>"
      ]
     },
     "metadata": {
      "needs_background": "light"
     },
     "output_type": "display_data"
    }
   ],
   "source": [
    "plt.figure(figsize=(8,8)) \n",
    "plt.title(\"Single Linkage Dendrogram\")  \n",
    "dend = shc.dendrogram(shc.linkage(data[['x cordinate', 'y cordinate']], method='single'), labels=data.index)"
   ]
  },
  {
   "cell_type": "code",
   "execution_count": 29,
   "id": "d6aa387f",
   "metadata": {},
   "outputs": [
    {
     "data": {
      "image/png": "[encoded data removed]",
      "text/plain": [
       "<Figure size 576x288 with 1 Axes>"
      ]
     },
     "metadata": {
      "needs_background": "light"
     },
     "output_type": "display_data"
    }
   ],
   "source": [
    "plt.figure(figsize=(8,4)) \n",
    "plt.title(\"Complete Linkage Dendrogram\")  \n",
    "dend = shc.dendrogram(shc.linkage(data[['x cordinate', 'y cordinate']], method='complete'), labels=data.index)"
   ]
  },
  {
   "cell_type": "code",
   "execution_count": 30,
   "id": "e2cf5fd6",
   "metadata": {},
   "outputs": [
    {
     "data": {
      "image/png": "[encoded data removed]",
      "text/plain": [
       "<Figure size 576x288 with 1 Axes>"
      ]
     },
     "metadata": {
      "needs_background": "light"
     },
     "output_type": "display_data"
    }
   ],
   "source": [
    "plt.figure(figsize=(8,4)) \n",
    "plt.title(\"Average Linkage Dendogram\")  \n",
    "dend = shc.dendrogram(shc.linkage(data[['x cordinate', 'y cordinate']], method='average'), labels=data.index)"
   ]
  },
  {
   "cell_type": "code",
   "execution_count": null,
   "id": "13a60ea2",
   "metadata": {},
   "outputs": [],
   "source": []
  }
 ],
 "metadata": {
  "kernelspec": {
   "display_name": "Python 3",
   "language": "python",
   "name": "python3"
  },
  "language_info": {
   "codemirror_mode": {
    "name": "ipython",
    "version": 3
   },
   "file_extension": ".py",
   "mimetype": "text/x-python",
   "name": "python",
   "nbconvert_exporter": "python",
   "pygments_lexer": "ipython3",
   "version": "3.8.8"
  }
 },
 "nbformat": 4,
 "nbformat_minor": 5
}
